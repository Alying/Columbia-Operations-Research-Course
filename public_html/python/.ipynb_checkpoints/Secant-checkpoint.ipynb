{
 "cells": [
  {
   "cell_type": "code",
   "execution_count": 1,
   "metadata": {
    "colab": {
     "base_uri": "https://localhost:8080/",
     "height": 434
    },
    "colab_type": "code",
    "id": "Iny9I6_MKZxO",
    "outputId": "0680af86-a805-4912-b112-0bdd41be8991"
   },
   "outputs": [
    {
     "name": "stdout",
     "output_type": "stream",
     "text": [
      "4871.794974358974\n",
      "3220.3391670270175\n",
      "1938.775840283644\n",
      "1210.191625056591\n",
      "745.098928648287\n",
      "461.1664908727912\n",
      "284.859909533204\n",
      "176.09275596450158\n",
      "108.82628583856227\n",
      "67.26654867785305\n",
      "41.582433912761005\n",
      "25.71550737836396\n",
      "15.918962237782731\n",
      "9.88037543588795\n",
      "6.1740082429160115\n",
      "3.9242564924778636\n",
      "2.5973167290758283\n",
      "1.8695699063534326\n",
      "1.5348196078160963\n",
      "1.4303453027883068\n",
      "1.4148697098307403\n",
      "1.4142172825841912\n",
      "1.41421356323592\n",
      "count: 24 sqrt(2) 1.4142135623730951 vs Scant solution 1.4142135623730963\n"
     ]
    }
   ],
   "source": [
    "import math\n",
    "\n",
    "tol=0.00000001\n",
    "count=0\n",
    "xo=10000\n",
    "x1=9500\n",
    "\n",
    "fo=xo**2-2\n",
    "\n",
    "while (1):\n",
    "    f1=x1**2-2\n",
    "    x2=x1-f1/((f1-fo)/(x1-xo))\n",
    "    count+=1\n",
    "    if (abs(x2-x1)<tol):\n",
    "        break\n",
    "\n",
    "    xo=x1\n",
    "    x1=x2\n",
    "    fo=f1\n",
    "    print(\"{}\".format(x2))\n",
    "    \n",
    "\n",
    "print(\"count: {} sqrt(2) {} vs Scant solution {}\".format(count, math.sqrt(2), x2))"
   ]
  }
 ],
 "metadata": {
  "colab": {
   "collapsed_sections": [],
   "name": "Secant.ipynb",
   "provenance": [],
   "version": "0.3.2"
  },
  "kernelspec": {
   "display_name": "Python 3",
   "language": "python",
   "name": "python3"
  },
  "language_info": {
   "codemirror_mode": {
    "name": "ipython",
    "version": 3
   },
   "file_extension": ".py",
   "mimetype": "text/x-python",
   "name": "python",
   "nbconvert_exporter": "python",
   "pygments_lexer": "ipython3",
   "version": "3.6.4"
  }
 },
 "nbformat": 4,
 "nbformat_minor": 1
}
