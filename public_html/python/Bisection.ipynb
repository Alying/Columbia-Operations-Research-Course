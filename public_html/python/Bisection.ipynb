{
 "cells": [
  {
   "cell_type": "code",
   "execution_count": 1,
   "metadata": {
    "colab": {
     "base_uri": "https://localhost:8080/",
     "height": 52
    },
    "colab_type": "code",
    "id": "qx3TFcKdLGNZ",
    "outputId": "1732c022-6f20-42a7-8b49-c847b44246f2"
   },
   "outputs": [
    {
     "name": "stdout",
     "output_type": "stream",
     "text": [
      "Count=31 : sqrt(2)= 1.4142135623730951 versus computer solution: 1.4142135633155704\n",
      "Count estimate 31\n"
     ]
    }
   ],
   "source": [
    "import math\n",
    "\n",
    "xleft=-2.0\n",
    "xright=10.0\n",
    "tol=0.00000001\n",
    "count=0\n",
    "count2=math.ceil( math.log((xright-xleft)/tol)/math.log(2))\n",
    "\n",
    "while (abs(xright-xleft)>tol):\n",
    "    mid=(xleft+xright)/2\n",
    "    if mid*mid-2.0<0:\n",
    "        xleft=mid\n",
    "    else:\n",
    "        xright=mid\n",
    "\n",
    "    count+=1\n",
    "\n",
    "x=(xleft+xright)/2\n",
    "\n",
    "print (\"Count={} : sqrt(2)= {} versus computer solution: {}\".format(count, math.sqrt(2), x))\n",
    "print (\"Count estimate {}\".format(count2))"
   ]
  }
 ],
 "metadata": {
  "colab": {
   "collapsed_sections": [],
   "name": "Bisection.ipynb",
   "provenance": [],
   "version": "0.3.2"
  },
  "kernelspec": {
   "display_name": "Python 3",
   "language": "python",
   "name": "python3"
  },
  "language_info": {
   "codemirror_mode": {
    "name": "ipython",
    "version": 3
   },
   "file_extension": ".py",
   "mimetype": "text/x-python",
   "name": "python",
   "nbconvert_exporter": "python",
   "pygments_lexer": "ipython3",
   "version": "3.6.4"
  }
 },
 "nbformat": 4,
 "nbformat_minor": 1
}
